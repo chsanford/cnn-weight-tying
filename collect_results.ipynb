{
 "cells": [
  {
   "cell_type": "code",
   "execution_count": null,
   "metadata": {
    "collapsed": true
   },
   "outputs": [],
   "source": [
    "import numpy as np\n",
    "import matplotlib.pyplot as plt\n",
    "import seaborn as sns\n",
    "import pandas as pd\n",
    "import time\n",
    "import os\n",
    "import contextlib\n",
    "import models\n",
    "\n",
    "%run -i experiments.py"
   ]
  },
  {
   "cell_type": "code",
   "execution_count": null,
   "outputs": [],
   "source": [
    "cwd = os.getcwd()\n",
    "base = './results'\n",
    "res_path = os.path.join(cwd,base)\n",
    "res_path\n"
   ],
   "metadata": {
    "collapsed": false,
    "pycharm": {
     "name": "#%%\n"
    }
   }
  },
  {
   "cell_type": "code",
   "execution_count": null,
   "outputs": [],
   "source": [
    "def walk(path, extension = \".pyT\"):\n",
    "    for root, dirs, files in os.walk(path):\n",
    "        files = list(filter(lambda file: file.endswith(extension), files))\n",
    "        if len(files) == 0:\n",
    "            continue\n",
    "        yield (root, dirs, files)\n",
    "\n",
    "def extract_metadata(root):\n",
    "    \n",
    "    index = root.index('epochs')\n",
    "    root = root[index:].split('/')\n",
    "    \n",
    "    dictionary = dict()  \n",
    "    dictionary.update([item.split('=') for item in root[0].split('-')])\n",
    "    \n",
    "    if len(root) > 1:\n",
    "        dictionary['is_tied'] = False\n",
    "        dictionary['split_epoch'] = int(root[-1].split('_')[-1])\n",
    "    \n",
    "    else:\n",
    "        dictionary['is_tied'] = True\n",
    "        dictionary['split_epoch'] = 0\n",
    "    \n",
    "    return dictionary\n",
    "\n",
    "@contextlib.contextmanager\n",
    "def remember_cwd():\n",
    "    curdir = os.getcwd()\n",
    "    try:\n",
    "        yield\n",
    "    finally:\n",
    "        os.chdir(curdir)\n",
    "        \n",
    "def preprocess(data):\n",
    "    # remove the initial result\n",
    "    for key in data.keys():\n",
    "        if key not in ['train_loss', 'test_loss', 'train_acc', 'test_acc', 'checkpoints']:\n",
    "            data[key].insert(0, data[key][0])\n",
    "    \n",
    "    return pd.DataFrame(data)\n"
   ],
   "metadata": {
    "collapsed": false,
    "pycharm": {
     "name": "#%%\n"
    }
   }
  },
  {
   "cell_type": "code",
   "execution_count": null,
   "outputs": [],
   "source": [
    "evaluation_history = []\n",
    "roots = []\n",
    "\n",
    "## Builds the evaluation data frame\n",
    "with remember_cwd():\n",
    "    for root, dirs, files in walk(res_path, extension = \".hist\"):\n",
    "        os.chdir(root)\n",
    "        metadata = extract_metadata(root)\n",
    "        for file in files:\n",
    "            if 'evaluation' in file:\n",
    "                package = preprocess(torch.load(file, map_location=device))\n",
    "                for key, val in metadata.items():\n",
    "                    package[key] = val\n",
    "                evaluation_history.append( package )\n",
    "                roots.append(root)\n",
    "\n",
    "evaluation_history_df = pd.concat( evaluation_history, axis = 0) \\\n",
    "                          .assign(adjusted_epoch = lambda x: x.checkpoints + x.split_epoch,\n",
    "                                  experiment_type = lambda x: 'CNN lr=' + x.cnn_lr.astype(str) + ', LCN lr=' + x.lc_lr.astype(str))\n",
    "\n",
    "evaluation_history_per_experiment = evaluation_history_df \\\n",
    "    .groupby(['experiment_type', 'split_epoch']) \\\n",
    "    .apply(lambda x: x.sort_values(['test_acc'], ascending=False).iloc[0,:])\n",
    "\n",
    "best_elcn = evaluation_history_per_experiment.sort_values(['test_acc'], ascending=False).iloc[0,].split_epoch\n",
    "\n"
   ],
   "metadata": {
    "collapsed": false,
    "pycharm": {
     "name": "#%%\n"
    }
   }
  },
  {
   "cell_type": "markdown",
   "source": [
    "The following produces a table to compare the best eLCN and CNN under different learning rates.\n"
   ],
   "metadata": {
    "collapsed": false
   }
  },
  {
   "cell_type": "code",
   "execution_count": null,
   "outputs": [],
   "source": [
    "evaluation_history_per_experiment.loc[(slice(None), [0, best_elcn]), :]\n",
    "\n",
    "\n"
   ],
   "metadata": {
    "collapsed": false,
    "pycharm": {
     "name": "#%%\n"
    }
   }
  }
 ],
 "metadata": {
  "language_info": {
   "codemirror_mode": {
    "name": "ipython",
    "version": 2
   },
   "file_extension": ".py",
   "mimetype": "text/x-python",
   "name": "python",
   "nbconvert_exporter": "python",
   "pygments_lexer": "ipython2",
   "version": "2.7.6"
  },
  "kernelspec": {
   "name": "python3",
   "language": "python",
   "display_name": "Python 3"
  },
  "pycharm": {
   "stem_cell": {
    "cell_type": "raw",
    "source": [],
    "metadata": {
     "collapsed": false
    }
   }
  }
 },
 "nbformat": 4,
 "nbformat_minor": 0
}